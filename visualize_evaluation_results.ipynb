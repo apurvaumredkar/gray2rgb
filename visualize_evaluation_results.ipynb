{
 "cells": [
  {
   "cell_type": "markdown",
   "id": "f471128e",
   "metadata": {},
   "source": [
    "### Display model predicted images (random 100/2500 test images)"
   ]
  },
  {
   "cell_type": "code",
   "execution_count": null,
   "id": "5b1f66bf",
   "metadata": {},
   "outputs": [],
   "source": [
    "import os\n",
    "import random\n",
    "import json\n",
    "import matplotlib.pyplot as plt\n",
    "from PIL import Image"
   ]
  },
  {
   "cell_type": "code",
   "execution_count": null,
   "id": "4f63b11a",
   "metadata": {},
   "outputs": [],
   "source": [
    "gray_test_dir = \"./data_subset/gray/test\"\n",
    "rgb_test_dir = \"./data_subset/rgb/test\"\n",
    "pred_dir = \"./predictions\"\n",
    "metrics_path = \"./metrics_results.json\""
   ]
  },
  {
   "cell_type": "code",
   "execution_count": null,
   "id": "48cf3d5a",
   "metadata": {},
   "outputs": [],
   "source": [
    "with open(metrics_path, \"r\") as f:\n",
    "    metrics = json.load(f)\n",
    "\n",
    "print(\"=== Evaluation Metrics ===\")\n",
    "for metric, value in metrics.items():\n",
    "    print(f\"{metric}: {value:.4f}\")\n",
    "\n",
    "all_files = [f for f in os.listdir(gray_test_dir) if f.lower().endswith(('.jpg', '.jpeg', '.png'))]\n",
    "print(f\"Total test images found: {len(all_files)}\")\n",
    "\n",
    "random.seed(42)\n",
    "sample_files = random.sample(all_files, 100)\n",
    "\n",
    "def load_image(path):\n",
    "    return Image.open(path).convert(\"RGB\")\n",
    "\n",
    "def show_triplet(gray_path, pred_path, gt_path):\n",
    "    gray_img = Image.open(gray_path).convert(\"L\")\n",
    "    pred_img = load_image(pred_path)\n",
    "    gt_img = load_image(gt_path)\n",
    "\n",
    "    fig, axes = plt.subplots(1, 3, figsize=(12, 4))\n",
    "\n",
    "    axes[0].imshow(gray_img, cmap=\"gray\")\n",
    "    axes[0].set_title(\"Grayscale Input\")\n",
    "    axes[0].axis(\"off\")\n",
    "\n",
    "    axes[1].imshow(pred_img)\n",
    "    axes[1].set_title(\"Model Prediction\")\n",
    "    axes[1].axis(\"off\")\n",
    "\n",
    "    axes[2].imshow(gt_img)\n",
    "    axes[2].set_title(\"Ground Truth\")\n",
    "    axes[2].axis(\"off\")\n",
    "\n",
    "    plt.tight_layout()\n",
    "    plt.show()\n",
    "\n",
    "for filename in sample_files:\n",
    "    gray_path = os.path.join(gray_test_dir, filename)\n",
    "    pred_path = os.path.join(pred_dir, filename)\n",
    "    gt_path = os.path.join(rgb_test_dir, filename)\n",
    "\n",
    "    if os.path.exists(pred_path):\n",
    "        show_triplet(gray_path, pred_path, gt_path)\n",
    "    else:\n",
    "        print(f\"Prediction not found for {filename}\")"
   ]
  }
 ],
 "metadata": {
  "kernelspec": {
   "display_name": "mlenv",
   "language": "python",
   "name": "python3"
  },
  "language_info": {
   "codemirror_mode": {
    "name": "ipython",
    "version": 3
   },
   "file_extension": ".py",
   "mimetype": "text/x-python",
   "name": "python",
   "nbconvert_exporter": "python",
   "pygments_lexer": "ipython3",
   "version": "3.12.9"
  }
 },
 "nbformat": 4,
 "nbformat_minor": 5
}
